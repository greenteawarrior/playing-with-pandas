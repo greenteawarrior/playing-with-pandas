{
 "metadata": {
  "name": "",
  "signature": "sha256:6de465ff4029a2e307de428bdc63c01c4fd5099d2e60db5778480c4fe97e9484"
 },
 "nbformat": 3,
 "nbformat_minor": 0,
 "worksheets": [
  {
   "cells": [
    {
     "cell_type": "code",
     "collapsed": false,
     "input": [
      "import numpy as np\n",
      "randn = np.random.randn\n",
      "import pandas as pd"
     ],
     "language": "python",
     "metadata": {},
     "outputs": [],
     "prompt_number": 13
    },
    {
     "cell_type": "markdown",
     "metadata": {},
     "source": [
      "### Series!\n",
      "* How to create a series: \n",
      "```\n",
      "s = Series(data, index=index)\n",
      "```\n",
      "* Data can be either a python dict, ndarray, or a scalar value\n",
      "* index is a list of axis labels"
     ]
    },
    {
     "cell_type": "code",
     "collapsed": false,
     "input": [
      "# Creating a series from a ndarray\n",
      "s = pd.Series(randn(5), index=['a', 'b', 'c', 'd', 'e'])\n",
      "print s, '\\n'\n",
      "print s.index"
     ],
     "language": "python",
     "metadata": {},
     "outputs": [
      {
       "output_type": "stream",
       "stream": "stdout",
       "text": [
        "a   -0.333016\n",
        "b   -0.416530\n",
        "c   -1.120332\n",
        "d   -0.978310\n",
        "e   -1.230578\n",
        "dtype: float64 \n",
        "\n",
        "Index([u'a', u'b', u'c', u'd', u'e'], dtype='object')\n"
       ]
      }
     ],
     "prompt_number": 14
    },
    {
     "cell_type": "code",
     "collapsed": false,
     "input": [
      "# Creating a series from a dictionary\n",
      "d = {'a' : 0., 'b' : 1., 'c' : 2.}\n",
      "s = pd.Series(d)\n",
      "print s, '\\n'\n",
      "\n",
      "s_with_index = pd.Series(d, index=['b', 'c', 'd', 'a'])\n",
      "print s_with_index\n",
      "\n",
      "# also, NaN is the typical \"missing data marker\" used in pandas"
     ],
     "language": "python",
     "metadata": {},
     "outputs": [
      {
       "output_type": "stream",
       "stream": "stdout",
       "text": [
        "a    0\n",
        "b    1\n",
        "c    2\n",
        "dtype: float64 \n",
        "\n",
        "b     1\n",
        "c     2\n",
        "d   NaN\n",
        "a     0\n",
        "dtype: float64\n"
       ]
      }
     ],
     "prompt_number": 15
    },
    {
     "cell_type": "code",
     "collapsed": false,
     "input": [
      "# Creating a series from a scalar\n",
      "s = pd.Series(5., index=['a', 'b', 'c', 'd', 'e'])\n",
      "# index is necessary, and the value will be repeated to match the length of index\n",
      "\n",
      "print s"
     ],
     "language": "python",
     "metadata": {},
     "outputs": [
      {
       "output_type": "stream",
       "stream": "stdout",
       "text": [
        "a    5\n",
        "b    5\n",
        "c    5\n",
        "d    5\n",
        "e    5\n",
        "dtype: float64\n"
       ]
      }
     ],
     "prompt_number": 17
    },
    {
     "cell_type": "code",
     "collapsed": false,
     "input": [
      "# Series act very similarly to numpy arrays\n",
      "\n",
      "# create the series for this example\n",
      "s = pd.Series(randn(5), index=['a', 'b', 'c', 'd', 'e'])\n",
      "\n",
      "print s[0], '\\n'\n",
      "\n",
      "print s[s > s.median()], '\\n'\n",
      "\n",
      "print s[[4, 3, 1]], '\\n'\n",
      "\n",
      "print np.exp(s), '\\n'"
     ],
     "language": "python",
     "metadata": {},
     "outputs": [
      {
       "output_type": "stream",
       "stream": "stdout",
       "text": [
        "1.15503346974 \n",
        "\n",
        "a    1.155033\n",
        "b    1.407436\n",
        "dtype: float64 \n",
        "\n",
        "e   -1.302234\n",
        "d    0.052157\n",
        "b    1.407436\n",
        "dtype: float64 \n",
        "\n",
        "a    3.174130\n",
        "b    4.085468\n",
        "c    3.064098\n",
        "d    1.053542\n",
        "e    0.271924\n",
        "dtype: float64 \n",
        "\n"
       ]
      }
     ],
     "prompt_number": 21
    },
    {
     "cell_type": "code",
     "collapsed": false,
     "input": [
      "# Series also act like dictionaries (can get values by index value, \n",
      "# like the key-value pair thing with python dicts)\n",
      "\n",
      "print s['a'], '\\n'\n",
      "\n",
      "s['e'] = 12\n",
      "print s['e'], '\\n'\n",
      "\n",
      "print s, '\\n'\n",
      "\n",
      "print 'e' in s, '\\n'\n",
      "\n",
      "print 'f' in s, '\\n'\n",
      "\n",
      "s['f'] # will return a KeyError b/c the label is not contained in this series\n",
      "# also try s.get('f) and s.get('f', np.nan)"
     ],
     "language": "python",
     "metadata": {},
     "outputs": [
      {
       "output_type": "stream",
       "stream": "stdout",
       "text": [
        "1.15503346974 \n",
        "\n",
        "12.0 \n",
        "\n",
        "a     1.155033\n",
        "b     1.407436\n",
        "c     1.119753\n",
        "d     0.052157\n",
        "e    12.000000\n",
        "dtype: float64 \n",
        "\n",
        "True \n",
        "\n",
        "False \n",
        "\n"
       ]
      }
     ],
     "prompt_number": 23
    },
    {
     "cell_type": "code",
     "collapsed": false,
     "input": [
      "# series vs. ndarray:\n",
      "# \"operations between Series automatically align the data based on label\"\n",
      "# the result of a operation b/t unaligned series will give the union of the involved indexes\n"
     ],
     "language": "python",
     "metadata": {},
     "outputs": [],
     "prompt_number": 24
    },
    {
     "cell_type": "code",
     "collapsed": false,
     "input": [
      "# series have a name attribute\n",
      "s = Series(np.random.randn(5), name='something')"
     ],
     "language": "python",
     "metadata": {},
     "outputs": []
    }
   ],
   "metadata": {}
  }
 ]
}